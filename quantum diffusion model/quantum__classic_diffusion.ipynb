{
 "cells": [
  {
   "cell_type": "code",
   "execution_count": 1,
   "metadata": {},
   "outputs": [],
   "source": [
    "import torch\n",
    "import matplotlib.pyplot as plt\n",
    "import torch\n",
    "from torch.optim import Adam\n",
    "import numpy as np\n",
    "import matplotlib.pyplot as plt\n",
    "import torch\n",
    "import torchvision\n",
    "import torchvision.transforms as transforms\n",
    "import torch.nn as nn\n",
    "from tqdm import tqdm\n",
    "from torch.utils.data import DataLoader, Subset, ConcatDataset\n",
    "import torch.nn.functional as F\n",
    "import math \n",
    "from pennylane import qml\n",
    "\n",
    "\n",
    "def linear_beta_schedule(timesteps, start=0.0001, end=0.02):\n",
    "    return torch.linspace(start, end, timesteps)\n",
    "\n",
    "def get_index_from_list(vals, t, x_shape):\n",
    "    batch_size = x_shape[0]\n",
    "    out = vals[t].expand(batch_size, *((1,) * (len(x_shape) - 1)))\n",
    "    return out\n",
    "\n",
    "def forward_diffusion_sample(x_0, t):\n",
    "    noise = torch.randn_like(x_0)\n",
    "    sqrt_alphas_cumprod_t = get_index_from_list(sqrt_alphas_cumprod, t, x_0.shape)\n",
    "    sqrt_one_minus_alphas_cumprod_t = get_index_from_list(sqrt_one_minus_alphas_cumprod, t, x_0.shape)\n",
    "    return sqrt_alphas_cumprod_t * x_0 + sqrt_one_minus_alphas_cumprod_t * noise\n",
    "\n",
    "timesteps = 10\n",
    "betas = linear_beta_schedule(timesteps)\n",
    "\n",
    "alphas = 1. - betas\n",
    "alphas_cumprod = torch.cumprod(alphas, axis=0)\n",
    "alphas_cumprod_prev = F.pad(alphas_cumprod[:-1], (1, 0), value=1.0)\n",
    "sqrt_recip_alphas = torch.sqrt(1.0 / alphas)\n",
    "sqrt_alphas_cumprod = torch.sqrt(alphas_cumprod)\n",
    "sqrt_one_minus_alphas_cumprod = torch.sqrt(1. - alphas_cumprod)\n",
    "posterior_variance = betas * (1. - alphas_cumprod_prev) / (1. - alphas_cumprod)"
   ]
  },
  {
   "cell_type": "code",
   "execution_count": 2,
   "metadata": {},
   "outputs": [
    {
     "data": {
      "image/png": "[encoded data removed]",
      "text/plain": [
       "<Figure size 1500x300 with 10 Axes>"
      ]
     },
     "metadata": {},
     "output_type": "display_data"
    }
   ],
   "source": [
    "IMG_SIZE = 8  # Dimensione delle immagini (8x8)\n",
    "BATCH_SIZE = 32\n",
    "\n",
    "transform = transforms.Compose([\n",
    "    transforms.Resize((IMG_SIZE, IMG_SIZE)),  # Ridimensiona le immagini a 8x8\n",
    "    transforms.ToTensor()  # Converte le immagini in tensori\n",
    "])\n",
    "\n",
    "# Scarica il dataset MNIST con la trasformazione applicata\n",
    "trainset = torchvision.datasets.MNIST(root='./data', train=True, download=True, transform=transform)\n",
    "\n",
    "# Crea sottoinsiemi per le cifre 0 e 1\n",
    "indices_zero = [i for i, (_, label) in enumerate(trainset) if label == 0]\n",
    "indices_one = [i for i, (_, label) in enumerate(trainset) if label == 1]\n",
    "\n",
    "zero_subset = Subset(trainset, indices_zero)\n",
    "one_subset = Subset(trainset, indices_one)\n",
    "\n",
    "# Combina i due sottoinsiemi\n",
    "combined_subset = ConcatDataset([zero_subset, one_subset])\n",
    "\n",
    "trainloader = DataLoader(combined_subset, batch_size=BATCH_SIZE, shuffle=True)\n",
    "\n",
    "# Funzione per visualizzare le immagini\n",
    "def show_images(dataset, num_images=10):\n",
    "    fig, axes = plt.subplots(1, num_images, figsize=(15, 3))\n",
    "    for i in range(num_images):\n",
    "        img, label = dataset[i]\n",
    "        axes[i].imshow(img.squeeze(), cmap='gray')\n",
    "        axes[i].set_title(f\"Label: {label}\")\n",
    "        axes[i].axis('off')\n",
    "    plt.show()\n",
    "\n",
    "# Visualizza alcune immagini del dataset combinato\n",
    "show_images(combined_subset, num_images=10)"
   ]
  },
  {
   "cell_type": "code",
   "execution_count": 3,
   "metadata": {},
   "outputs": [],
   "source": [
    "def load_transformed_dataset():\n",
    "    data_transforms = [\n",
    "        transforms.Resize((IMG_SIZE, IMG_SIZE)),\n",
    "        transforms.ToTensor(), # Scales data into [0,1] \n",
    "    ]\n",
    "    data_transform = transforms.Compose(data_transforms)\n",
    "\n",
    "    train = torchvision.datasets.MNIST(root=\".\", download=True, \n",
    "                                         transform=data_transform, train=True)\n",
    "\n",
    "    test = torchvision.datasets.MNIST(root=\".\", download=True, \n",
    "                                         transform=data_transform, train=False)\n",
    "    indices = [i for i, (_, label) in enumerate(train) if label == 0]\n",
    "    train = Subset(train, indices)\n",
    "    indices = [i for i, (_, label) in enumerate(test) if label == 0]\n",
    "    test = Subset(test, indices)\n",
    "    return torch.utils.data.ConcatDataset([train, test])\n",
    "def show_tensor_image(image):\n",
    "    reverse_transforms = transforms.Compose([\n",
    "        transforms.Lambda(lambda t: (t + 1) / 2),\n",
    "        transforms.Lambda(lambda t: t.permute(1, 2, 0)), # CHW to HWC\n",
    "        transforms.Lambda(lambda t: t * 255.),\n",
    "        transforms.Lambda(lambda t: t.numpy().astype(np.uint8)),\n",
    "        transforms.ToPILImage(),\n",
    "    ])\n",
    "\n",
    "    # Take first image of batch\n",
    "    if len(image.shape) == 4:\n",
    "        image = image[0, :, :, :] \n",
    "    plt.imshow(reverse_transforms(image))\n",
    "\n",
    "data = load_transformed_dataset()\n",
    "dataloader = DataLoader(data, batch_size=BATCH_SIZE, shuffle=True, drop_last=True)"
   ]
  },
  {
   "cell_type": "code",
   "execution_count": 4,
   "metadata": {},
   "outputs": [
    {
     "data": {
      "image/png": "[encoded data removed]",
      "text/plain": [
       "<Figure size 1500x1500 with 10 Axes>"
      ]
     },
     "metadata": {},
     "output_type": "display_data"
    }
   ],
   "source": [
    "# Simulate forward diffusion\n",
    "image = next(iter(dataloader))[0]\n",
    "\n",
    "plt.figure(figsize=(15,15))\n",
    "num_images = 10\n",
    "stepsize = int(timesteps/num_images)\n",
    "\n",
    "for t in range(0, timesteps, stepsize):\n",
    "    plt.subplot(1, num_images+1, int(t/stepsize) + 1)\n",
    "    img= forward_diffusion_sample(image, t)\n",
    "    show_tensor_image(img)"
   ]
  },
  {
   "cell_type": "code",
   "execution_count": 5,
   "metadata": {},
   "outputs": [],
   "source": [
    "# Numero di qubit e layers per StronglyEntanglingLayers\n",
    "n_encoding_qubits = 6\n",
    "\n",
    "# Definiamo il dispositivo quantistico\n",
    "dev = qml.device('default.qubit', wires=n_encoding_qubits)\n",
    "\n",
    "@qml.qnode(dev)\n",
    "def quantum_state(x):\n",
    "    qml.AmplitudeEmbedding(x, wires=range(n_encoding_qubits), normalize=True)\n",
    "    return qml.state()\n"
   ]
  },
  {
   "cell_type": "code",
   "execution_count": 6,
   "metadata": {},
   "outputs": [],
   "source": [
    "class DenoisingModel(nn.Module):\n",
    "    def __init__(self, n_layers=25, n_qubits=7, n_qubits1=6, n_a_qubits=1, device='default.qubit.torch'):\n",
    "        super().__init__()\n",
    "        self.n_qubits = n_qubits\n",
    "        self.n_qubits1 = n_qubits1\n",
    "        self.n_a_qubits = n_a_qubits\n",
    "        self.n_layers = n_layers\n",
    "        self.device = device\n",
    "\n",
    "        # Encoder classico\n",
    "        self.encoder = nn.Sequential(\n",
    "            nn.Linear(8 * 8, 32),\n",
    "            nn.ReLU(),\n",
    "            nn.Linear(32, 16),\n",
    "            nn.ReLU(),\n",
    "            nn.Linear(16, 2**n_qubits1)\n",
    "        )\n",
    "\n",
    "        # Circuiti quantistici\n",
    "        self.dev = qml.device(self.device, wires=self.n_qubits)\n",
    "        self.dev1 = qml.device(self.device, wires=self.n_qubits1)\n",
    "        \n",
    "        self.qnode = qml.QNode(self.circuit, self.dev, interface='torch')\n",
    "        self.qnode1 = qml.QNode(self.circuit1, self.dev1, interface='torch')\n",
    "        \n",
    "        self.weight_shapes = {\"weights\": qml.StronglyEntanglingLayers.shape(n_layers=n_layers, n_wires=self.n_qubits)}\n",
    "        self.weight_shapes1 = {\"weights\": qml.StronglyEntanglingLayers.shape(n_layers=n_layers, n_wires=self.n_qubits1)}\n",
    "        \n",
    "        self.qlayer = qml.qnn.TorchLayer(self.qnode, self.weight_shapes)\n",
    "        self.qlayer1 = qml.qnn.TorchLayer(self.qnode1, self.weight_shapes1)\n",
    "\n",
    "        # Decoder classico\n",
    "        self.decoder = nn.Sequential(\n",
    "            nn.Linear(2**n_qubits1, 32),\n",
    "            nn.ReLU(),\n",
    "            nn.Linear(32, 16),\n",
    "            nn.ReLU(),\n",
    "            nn.Linear(16, 8 * 8),\n",
    "            nn.Sigmoid()\n",
    "        )\n",
    "\n",
    "    def circuit(self, inputs, weights):\n",
    "        qml.AmplitudeEmbedding(features=inputs, wires=range(self.n_qubits1), normalize=True)\n",
    "        qml.StronglyEntanglingLayers(weights=weights, wires=range(self.n_qubits))\n",
    "        return qml.state()\n",
    "    \n",
    "    def circuit1(self, inputs, weights):\n",
    "        qml.AmplitudeEmbedding(features=inputs, wires=range(self.n_qubits1), normalize=True)\n",
    "        qml.StronglyEntanglingLayers(weights=weights, wires=range(self.n_qubits1))\n",
    "        return qml.state()\n",
    "    \n",
    "    def forward(self, x):\n",
    "        # Encoding\n",
    "        encoded = self.encoder(x.view(-1, 8*8))\n",
    "        \n",
    "        # Parte quantistica\n",
    "        probs = self.qlayer(encoded)\n",
    "        probsgiven0 = probs[:, : (2 ** (self.n_qubits - self.n_a_qubits))]\n",
    "        probsgiven0 /= torch.sum(probs, dim=1, keepdim=True)\n",
    "        \n",
    "        return self.qlayer1(probsgiven0)"
   ]
  },
  {
   "cell_type": "code",
   "execution_count": 7,
   "metadata": {},
   "outputs": [
    {
     "name": "stdout",
     "output_type": "stream",
     "text": [
      "Il numero totale di parametri addestrabili nel modello quantistico è: 8367\n",
      "\n",
      "Dettaglio dei parametri per ogni layer quantistico:\n",
      "encoder.0.weight: 2048\n",
      "encoder.0.bias: 32\n",
      "encoder.2.weight: 512\n",
      "encoder.2.bias: 16\n",
      "encoder.4.weight: 1024\n",
      "encoder.4.bias: 64\n",
      "qlayer.weights: 525\n",
      "qlayer1.weights: 450\n",
      "decoder.0.weight: 2048\n",
      "decoder.0.bias: 32\n",
      "decoder.2.weight: 512\n",
      "decoder.2.bias: 16\n",
      "decoder.4.weight: 1024\n",
      "decoder.4.bias: 64\n",
      "\n",
      "Numero teorico di parametri: 975\n",
      "(3 * 7 * 25) + (3 * 6 * 25)\n"
     ]
    }
   ],
   "source": [
    "def count_quantum_parameters(model):\n",
    "    total_params = 0\n",
    "    for name, param in model.named_parameters():\n",
    "        if param.requires_grad:\n",
    "            total_params += param.numel()\n",
    "    return total_params\n",
    "\n",
    "# Creazione del modello\n",
    "model = DenoisingModel()\n",
    "\n",
    "# Calcolo e stampa del numero di parametri\n",
    "num_params = count_quantum_parameters(model)\n",
    "print(f\"Il numero totale di parametri addestrabili nel modello quantistico è: {num_params}\")\n",
    "\n",
    "# Analisi dettagliata\n",
    "print(\"\\nDettaglio dei parametri per ogni layer quantistico:\")\n",
    "for name, param in model.named_parameters():\n",
    "    if param.requires_grad:\n",
    "        print(f\"{name}: {param.numel()}\")\n",
    "\n",
    "# Calcolo teorico dei parametri\n",
    "n_layers = model.n_layers\n",
    "n_qubits = model.n_qubits\n",
    "n_qubits1 = model.n_qubits1\n",
    "\n",
    "theoretical_params = (3 * n_qubits * n_layers) + (3 * n_qubits1 * n_layers)\n",
    "print(f\"\\nNumero teorico di parametri: {theoretical_params}\")\n",
    "print(f\"(3 * {n_qubits} * {n_layers}) + (3 * {n_qubits1} * {n_layers})\")"
   ]
  },
  {
   "cell_type": "code",
   "execution_count": 8,
   "metadata": {},
   "outputs": [],
   "source": [
    "\n",
    "\n",
    "def infidelity_loss(x0, x1):\n",
    "    state0 = qml.math.dm_from_state_vector(x0)\n",
    "    state1 = qml.math.dm_from_state_vector(x1)\n",
    "    fidelity = qml.math.fidelity(state0, state1)\n",
    "    loss = torch.mean(1 - fidelity)\n",
    "    return loss\n",
    "\n",
    "# Creazione dei modelli per ogni timestep\n",
    "model = DenoisingModel()\n",
    "optimizer = Adam(model.parameters(), lr=0.001)\n",
    "epochs = 5\n",
    "\n",
    "# Funzione per il processo di backward\n",
    "def backward_process(epoch):\n",
    "    losses = []\n",
    "    \n",
    "    # Iteriamo prima sui batch\n",
    "    for step, batch in enumerate(tqdm(trainloader, desc=f'Epoch {epoch+1}/{epochs} - Batches', unit='batch')):\n",
    "        data = batch[0].reshape(-1, 64)\n",
    "        xt = None\n",
    "        \n",
    "        # Per ogni batch, iteriamo sui timestep in ordine inverso\n",
    "        for t in tqdm(range(timesteps - 1, 0, -1), desc=f'Batch {step+1} - Timesteps', leave=False, unit='timestep'):\n",
    "            optimizer.zero_grad()\n",
    "            \n",
    "            if t == timesteps - 1:\n",
    "                xt = forward_diffusion_sample(data, t)\n",
    "            else:\n",
    "                xt = xt_prev\n",
    "\n",
    "            x_target = quantum_state(forward_diffusion_sample(data, t-1))\n",
    "            xt_prev = model(xt.detach())\n",
    "            loss = infidelity_loss(x_target, xt_prev)\n",
    "            loss.backward()\n",
    "            optimizer.step()\n",
    "            losses.append(loss.item())\n",
    "            \n",
    "    return sum(losses) / len(losses)"
   ]
  },
  {
   "cell_type": "code",
   "execution_count": 9,
   "metadata": {},
   "outputs": [
    {
     "name": "stderr",
     "output_type": "stream",
     "text": [
      "Epoch 1/5 - Batches:   0%|          | 0/396 [00:00<?, ?batch/s]c:\\Users\\paolo\\AppData\\Local\\Programs\\Python\\Python311\\Lib\\site-packages\\pennylane\\qnn\\torch.py:431: UserWarning: Casting complex values to real discards the imaginary part (Triggered internally at ..\\aten\\src\\ATen\\native\\Copy.cpp:276.)\n",
      "  return res.type(x.dtype)\n",
      "Epoch 1/5 - Batches: 100%|██████████| 396/396 [27:31<00:00,  4.17s/batch]\n"
     ]
    },
    {
     "name": "stdout",
     "output_type": "stream",
     "text": [
      "Epoch 1/5, Loss: 0.5379139987284326\n"
     ]
    },
    {
     "name": "stderr",
     "output_type": "stream",
     "text": [
      "Epoch 2/5 - Batches: 100%|██████████| 396/396 [35:30<00:00,  5.38s/batch]\n"
     ]
    },
    {
     "name": "stdout",
     "output_type": "stream",
     "text": [
      "Epoch 2/5, Loss: 0.4651545038065042\n"
     ]
    },
    {
     "name": "stderr",
     "output_type": "stream",
     "text": [
      "Epoch 3/5 - Batches: 100%|██████████| 396/396 [32:23<00:00,  4.91s/batch] \n"
     ]
    },
    {
     "name": "stdout",
     "output_type": "stream",
     "text": [
      "Epoch 3/5, Loss: 0.45512958157437466\n"
     ]
    },
    {
     "name": "stderr",
     "output_type": "stream",
     "text": [
      "Epoch 4/5 - Batches: 100%|██████████| 396/396 [27:29<00:00,  4.17s/batch]\n"
     ]
    },
    {
     "name": "stdout",
     "output_type": "stream",
     "text": [
      "Epoch 4/5, Loss: 0.45255311191076597\n"
     ]
    },
    {
     "name": "stderr",
     "output_type": "stream",
     "text": [
      "Epoch 5/5 - Batches: 100%|██████████| 396/396 [27:29<00:00,  4.17s/batch]"
     ]
    },
    {
     "name": "stdout",
     "output_type": "stream",
     "text": [
      "Epoch 5/5, Loss: 0.45103440855840304\n"
     ]
    },
    {
     "name": "stderr",
     "output_type": "stream",
     "text": [
      "\n"
     ]
    }
   ],
   "source": [
    "epoch_losses = []\n",
    "for epoch in range(epochs):\n",
    "    loss = backward_process(epoch)\n",
    "    epoch_losses.append(loss)\n",
    "    print(f\"Epoch {epoch+1}/{epochs}, Loss: {loss}\")"
   ]
  },
  {
   "cell_type": "code",
   "execution_count": 10,
   "metadata": {},
   "outputs": [
    {
     "name": "stdout",
     "output_type": "stream",
     "text": [
      "Le loss sono state salvate nel file 'epoch_losses.pkl'\n"
     ]
    }
   ],
   "source": [
    "import pickle\n",
    "\n",
    "with open('epoch_losses_quantum_classical_8x8_10T.pkl', 'wb') as f:\n",
    "    pickle.dump(epoch_losses, f)\n",
    "\n",
    "print(\"Le loss sono state salvate nel file 'epoch_losses.pkl'\")"
   ]
  },
  {
   "cell_type": "code",
   "execution_count": 11,
   "metadata": {},
   "outputs": [
    {
     "name": "stdout",
     "output_type": "stream",
     "text": [
      "Model weights saved.\n"
     ]
    }
   ],
   "source": [
    "# SAVE\n",
    "\n",
    "PATH = \"model_weights_quantum_classical_diffusion.pth\"\n",
    "\n",
    "# Salva i pesi del modello\n",
    "torch.save(model.state_dict(), PATH)\n",
    "print(\"Model weights saved.\")"
   ]
  },
  {
   "cell_type": "code",
   "execution_count": 7,
   "metadata": {},
   "outputs": [
    {
     "name": "stdout",
     "output_type": "stream",
     "text": [
      "Model weights loaded.\n"
     ]
    }
   ],
   "source": [
    "#LOAD\n",
    "PATH = \"model_weights_quantum_classical_diffusion.pth\"\n",
    "model= DenoisingModel()\n",
    "model.load_state_dict(torch.load(PATH))\n",
    "print(\"Model weights loaded.\")"
   ]
  },
  {
   "cell_type": "code",
   "execution_count": 10,
   "metadata": {},
   "outputs": [
    {
     "name": "stdout",
     "output_type": "stream",
     "text": [
      "Timesteps to show: [9, 8, 7, 6, 5, 4, 3, 2, 1, 0]\n"
     ]
    },
    {
     "data": {
      "image/png": "[encoded data removed]",
      "text/plain": [
       "<Figure size 2000x2000 with 50 Axes>"
      ]
     },
     "metadata": {},
     "output_type": "display_data"
    }
   ],
   "source": [
    "\n",
    "def display_denoising_grid(model, trainloader, timesteps, num_images=5):\n",
    "    model.eval()\n",
    "    \n",
    "    # Choose timesteps to display\n",
    "    timesteps_to_show = [9, 8, 7, 6, 5, 4, 3, 2, 1, 0]\n",
    "    \n",
    "    fig, axes = plt.subplots(num_images, len(timesteps_to_show), figsize=(20, 4 * num_images))\n",
    "    print(f\"Timesteps to show: {timesteps_to_show}\")\n",
    "    \n",
    "    with torch.no_grad():\n",
    "        for img_idx, batch in enumerate(trainloader):\n",
    "            if img_idx >= num_images:\n",
    "                break\n",
    "            \n",
    "            data = batch[0].reshape(-1, 64)\n",
    "            \n",
    "            # Initialize xt for the last timestep\n",
    "            xt = forward_diffusion_sample(data, timesteps - 1)\n",
    "            \n",
    "            # Dictionary to store images at timesteps_to_show\n",
    "            images_to_show = {}\n",
    "            \n",
    "            for t in range(timesteps - 1, -1, -1):\n",
    "                if t in timesteps_to_show:\n",
    "                    amplitudes = np.abs(xt.cpu().numpy()) ** 2\n",
    "                    reconstructed_image = amplitudes.reshape(-1, IMG_SIZE, IMG_SIZE)\n",
    "                    images_to_show[t] = reconstructed_image[img_idx]\n",
    "                \n",
    "                if t > 0:\n",
    "                    xt = model(xt)\n",
    "            \n",
    "            # Display images\n",
    "            for step_idx, t in enumerate(timesteps_to_show):\n",
    "                if t == 0:\n",
    "                    # Display original image\n",
    "                    axes[img_idx, step_idx].imshow(batch[0][img_idx].squeeze().cpu(), cmap='gray')\n",
    "                    axes[img_idx, step_idx].set_title(\"Original\")\n",
    "                else:\n",
    "                    # Display denoised image\n",
    "                    axes[img_idx, step_idx].imshow(images_to_show[t], cmap='gray')\n",
    "                    axes[img_idx, step_idx].set_title(f\"Step {t}\")\n",
    "                \n",
    "                axes[img_idx, step_idx].axis('off')\n",
    "    \n",
    "    plt.tight_layout()\n",
    "    plt.show()\n",
    "\n",
    "# Usage\n",
    "display_denoising_grid(model, trainloader, timesteps)"
   ]
  },
  {
   "cell_type": "code",
   "execution_count": 9,
   "metadata": {},
   "outputs": [
    {
     "name": "stderr",
     "output_type": "stream",
     "text": [
      "Processing batches: 100%|██████████| 4/4 [00:07<00:00,  1.98s/it]"
     ]
    },
    {
     "name": "stdout",
     "output_type": "stream",
     "text": [
      "Saved 100 diffusion images to qdm_images/hybrid_denoised_images\n"
     ]
    },
    {
     "name": "stderr",
     "output_type": "stream",
     "text": [
      "\n"
     ]
    }
   ],
   "source": [
    "import os \n",
    "from PIL import Image\n",
    "\n",
    "def save_images(images, labels, directory):\n",
    "    if not os.path.exists(directory):\n",
    "        os.makedirs(directory)\n",
    "    for i, (image, label) in enumerate(zip(images, labels)):\n",
    "        img = transforms.ToPILImage()(image.squeeze())\n",
    "        img.save(os.path.join(directory, f'diffusion_image_{i:04d}_label_{label.item()}.png'))\n",
    "\n",
    "def apply_diffusion_and_save(model, real_images_path, timesteps, batch_size=32, save_path='qdm_images/hybrid_denoised_images'):\n",
    "    model.eval()  # Set the model to evaluation mode\n",
    "    \n",
    "    # Define image transformation\n",
    "    transform = transforms.Compose([\n",
    "        transforms.Grayscale(),\n",
    "        transforms.Resize((IMG_SIZE, IMG_SIZE)),\n",
    "        transforms.ToTensor()\n",
    "    ])\n",
    "    \n",
    "    image_files = [f for f in os.listdir(real_images_path) if f.endswith('.png')]\n",
    "    image_index = 0\n",
    "    \n",
    "    with torch.no_grad():\n",
    "        for i in tqdm(range(0, len(image_files), batch_size), desc=\"Processing batches\"):\n",
    "            batch_files = image_files[i:i+batch_size]\n",
    "            batch = []\n",
    "            labels = []\n",
    "            \n",
    "            for file in batch_files:\n",
    "                img_path = os.path.join(real_images_path, file)\n",
    "                image = Image.open(img_path)\n",
    "                image = transform(image)\n",
    "                batch.append(image)\n",
    "                label = int(file.split('_label_')[1].split('.')[0])\n",
    "                labels.append(label)\n",
    "            \n",
    "            batch = torch.stack(batch)\n",
    "            labels = torch.tensor(labels)\n",
    "            \n",
    "            # Reshape the batch to 2D (batch_size, 64)\n",
    "            x0 = batch.view(batch.size(0), -1)\n",
    "            \n",
    "            # Apply the denoising process\n",
    "            for t in range(timesteps - 1, 0, -1):\n",
    "                if t == timesteps - 1:\n",
    "                    xt = forward_diffusion_sample(x0, t)\n",
    "                else:\n",
    "                    xt = xt_prev\n",
    "                \n",
    "                xt_prev = model(xt)\n",
    "            \n",
    "            # The final xt is our batch of generated images at timestep 1\n",
    "            amplitudes = np.abs(xt_prev.cpu().numpy()) ** 2\n",
    "            generated_imgs = torch.from_numpy(amplitudes).float().view(batch.size(0), 1, IMG_SIZE, IMG_SIZE)\n",
    "            # Save the batch of generated images\n",
    "            save_images(generated_imgs, labels, save_path)\n",
    "            \n",
    "            image_index += len(generated_imgs)\n",
    "    \n",
    "    print(f\"Saved {image_index} diffusion images to {save_path}\")\n",
    "\n",
    "# Usage\n",
    "real_images_path = 'qdm_images/real_images'\n",
    "apply_diffusion_and_save(model, real_images_path, timesteps, batch_size=32)"
   ]
  }
 ],
 "metadata": {
  "kernelspec": {
   "display_name": "Python 3",
   "language": "python",
   "name": "python3"
  },
  "language_info": {
   "codemirror_mode": {
    "name": "ipython",
    "version": 3
   },
   "file_extension": ".py",
   "mimetype": "text/x-python",
   "name": "python",
   "nbconvert_exporter": "python",
   "pygments_lexer": "ipython3",
   "version": "3.10.11"
  }
 },
 "nbformat": 4,
 "nbformat_minor": 2
}
